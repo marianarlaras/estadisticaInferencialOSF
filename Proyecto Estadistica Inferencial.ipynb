{
 "cells": [
  {
   "cell_type": "code",
   "execution_count": 1,
   "metadata": {},
   "outputs": [],
   "source": [
    "import pandas as pd\n",
    "import numpy as np\n",
    "import scipy as sp\n",
    "import matplotlib.pyplot as plt\n",
    "import seaborn as sns\n",
    "%matplotlib inline \n",
    "from scipy.stats import levene, normaltest, anderson, mannwhitneyu, shapiro, ttest_rel, ttest_ind"
   ]
  },
  {
   "cell_type": "markdown",
   "metadata": {},
   "source": [
    "### Nairne, Pandeirada and Thompson propose “that human memory systems are ‘tuned’ to remember information that  is  processed  for  survival”."
   ]
  },
  {
   "cell_type": "code",
   "execution_count": 2,
   "metadata": {},
   "outputs": [],
   "source": [
    "#sns.set_context(\"talk\")\n",
    "sns.set_palette(\"PuBuGn_d\")"
   ]
  },
  {
   "cell_type": "code",
   "execution_count": 3,
   "metadata": {
    "scrolled": true
   },
   "outputs": [
    {
     "data": {
      "text/html": [
       "<div>\n",
       "<style scoped>\n",
       "    .dataframe tbody tr th:only-of-type {\n",
       "        vertical-align: middle;\n",
       "    }\n",
       "\n",
       "    .dataframe tbody tr th {\n",
       "        vertical-align: top;\n",
       "    }\n",
       "\n",
       "    .dataframe thead th {\n",
       "        text-align: right;\n",
       "    }\n",
       "</style>\n",
       "<table border=\"1\" class=\"dataframe\">\n",
       "  <thead>\n",
       "    <tr style=\"text-align: right;\">\n",
       "      <th></th>\n",
       "      <th>Subject</th>\n",
       "      <th>Condition</th>\n",
       "      <th>MeanRating_SurvivalWords</th>\n",
       "      <th>MeanRating_VacationWords</th>\n",
       "      <th>Mean_RememberedWords_Survival</th>\n",
       "      <th>Mean_RememberedWords_Vacation</th>\n",
       "      <th>ResponseTime_Survival</th>\n",
       "      <th>ResponseTime_Vacation</th>\n",
       "    </tr>\n",
       "  </thead>\n",
       "  <tbody>\n",
       "    <tr>\n",
       "      <td>0</td>\n",
       "      <td>8</td>\n",
       "      <td>1</td>\n",
       "      <td>2.8750</td>\n",
       "      <td>2.4375</td>\n",
       "      <td>0.4375</td>\n",
       "      <td>0.4375</td>\n",
       "      <td>5150</td>\n",
       "      <td>5292</td>\n",
       "    </tr>\n",
       "    <tr>\n",
       "      <td>1</td>\n",
       "      <td>12</td>\n",
       "      <td>1</td>\n",
       "      <td>3.0625</td>\n",
       "      <td>2.6250</td>\n",
       "      <td>0.3750</td>\n",
       "      <td>0.3125</td>\n",
       "      <td>564</td>\n",
       "      <td>722</td>\n",
       "    </tr>\n",
       "    <tr>\n",
       "      <td>2</td>\n",
       "      <td>13</td>\n",
       "      <td>1</td>\n",
       "      <td>2.9375</td>\n",
       "      <td>3.1250</td>\n",
       "      <td>0.3750</td>\n",
       "      <td>0.5000</td>\n",
       "      <td>6147</td>\n",
       "      <td>6309</td>\n",
       "    </tr>\n",
       "    <tr>\n",
       "      <td>3</td>\n",
       "      <td>14</td>\n",
       "      <td>1</td>\n",
       "      <td>3.6250</td>\n",
       "      <td>2.5000</td>\n",
       "      <td>0.8125</td>\n",
       "      <td>0.7500</td>\n",
       "      <td>1852</td>\n",
       "      <td>1978</td>\n",
       "    </tr>\n",
       "    <tr>\n",
       "      <td>4</td>\n",
       "      <td>15</td>\n",
       "      <td>1</td>\n",
       "      <td>3.0000</td>\n",
       "      <td>2.1250</td>\n",
       "      <td>0.8125</td>\n",
       "      <td>0.5000</td>\n",
       "      <td>3811</td>\n",
       "      <td>3966</td>\n",
       "    </tr>\n",
       "  </tbody>\n",
       "</table>\n",
       "</div>"
      ],
      "text/plain": [
       "   Subject  Condition  MeanRating_SurvivalWords  MeanRating_VacationWords  \\\n",
       "0        8          1                    2.8750                    2.4375   \n",
       "1       12          1                    3.0625                    2.6250   \n",
       "2       13          1                    2.9375                    3.1250   \n",
       "3       14          1                    3.6250                    2.5000   \n",
       "4       15          1                    3.0000                    2.1250   \n",
       "\n",
       "   Mean_RememberedWords_Survival  Mean_RememberedWords_Vacation  \\\n",
       "0                         0.4375                         0.4375   \n",
       "1                         0.3750                         0.3125   \n",
       "2                         0.3750                         0.5000   \n",
       "3                         0.8125                         0.7500   \n",
       "4                         0.8125                         0.5000   \n",
       "\n",
       "   ResponseTime_Survival  ResponseTime_Vacation  \n",
       "0                   5150                   5292  \n",
       "1                    564                    722  \n",
       "2                   6147                   6309  \n",
       "3                   1852                   1978  \n",
       "4                   3811                   3966  "
      ]
     },
     "execution_count": 3,
     "metadata": {},
     "output_type": "execute_result"
    }
   ],
   "source": [
    "df = pd.read_excel('Data_Replication_NairneEtAl_2008.xls', delimiter=\";\")\n",
    "df.head()"
   ]
  },
  {
   "cell_type": "code",
   "execution_count": 65,
   "metadata": {},
   "outputs": [
    {
     "data": {
      "text/html": [
       "<div>\n",
       "<style scoped>\n",
       "    .dataframe tbody tr th:only-of-type {\n",
       "        vertical-align: middle;\n",
       "    }\n",
       "\n",
       "    .dataframe tbody tr th {\n",
       "        vertical-align: top;\n",
       "    }\n",
       "\n",
       "    .dataframe thead th {\n",
       "        text-align: right;\n",
       "    }\n",
       "</style>\n",
       "<table border=\"1\" class=\"dataframe\">\n",
       "  <thead>\n",
       "    <tr style=\"text-align: right;\">\n",
       "      <th></th>\n",
       "      <th>Subject</th>\n",
       "      <th>Condition</th>\n",
       "      <th>MeanRating_SurvivalWords</th>\n",
       "      <th>MeanRating_VacationWords</th>\n",
       "      <th>Mean_RememberedWords_Survival</th>\n",
       "      <th>Mean_RememberedWords_Vacation</th>\n",
       "      <th>ResponseTime_Survival</th>\n",
       "      <th>ResponseTime_Vacation</th>\n",
       "    </tr>\n",
       "  </thead>\n",
       "  <tbody>\n",
       "    <tr>\n",
       "      <td>Subject</td>\n",
       "      <td>1.000000</td>\n",
       "      <td>0.322543</td>\n",
       "      <td>-0.194302</td>\n",
       "      <td>0.003091</td>\n",
       "      <td>-0.220402</td>\n",
       "      <td>-0.270746</td>\n",
       "      <td>-0.301325</td>\n",
       "      <td>-0.318330</td>\n",
       "    </tr>\n",
       "    <tr>\n",
       "      <td>Condition</td>\n",
       "      <td>0.322543</td>\n",
       "      <td>1.000000</td>\n",
       "      <td>-0.452556</td>\n",
       "      <td>0.000000</td>\n",
       "      <td>0.203395</td>\n",
       "      <td>-0.175574</td>\n",
       "      <td>-0.000909</td>\n",
       "      <td>-0.046268</td>\n",
       "    </tr>\n",
       "    <tr>\n",
       "      <td>MeanRating_SurvivalWords</td>\n",
       "      <td>-0.194302</td>\n",
       "      <td>-0.452556</td>\n",
       "      <td>1.000000</td>\n",
       "      <td>-0.018100</td>\n",
       "      <td>0.108287</td>\n",
       "      <td>0.081120</td>\n",
       "      <td>0.153861</td>\n",
       "      <td>0.173593</td>\n",
       "    </tr>\n",
       "    <tr>\n",
       "      <td>MeanRating_VacationWords</td>\n",
       "      <td>0.003091</td>\n",
       "      <td>0.000000</td>\n",
       "      <td>-0.018100</td>\n",
       "      <td>1.000000</td>\n",
       "      <td>-0.056716</td>\n",
       "      <td>0.008352</td>\n",
       "      <td>0.148635</td>\n",
       "      <td>0.148826</td>\n",
       "    </tr>\n",
       "    <tr>\n",
       "      <td>Mean_RememberedWords_Survival</td>\n",
       "      <td>-0.220402</td>\n",
       "      <td>0.203395</td>\n",
       "      <td>0.108287</td>\n",
       "      <td>-0.056716</td>\n",
       "      <td>1.000000</td>\n",
       "      <td>0.567309</td>\n",
       "      <td>-0.073672</td>\n",
       "      <td>-0.080045</td>\n",
       "    </tr>\n",
       "    <tr>\n",
       "      <td>Mean_RememberedWords_Vacation</td>\n",
       "      <td>-0.270746</td>\n",
       "      <td>-0.175574</td>\n",
       "      <td>0.081120</td>\n",
       "      <td>0.008352</td>\n",
       "      <td>0.567309</td>\n",
       "      <td>1.000000</td>\n",
       "      <td>-0.119839</td>\n",
       "      <td>-0.109779</td>\n",
       "    </tr>\n",
       "    <tr>\n",
       "      <td>ResponseTime_Survival</td>\n",
       "      <td>-0.301325</td>\n",
       "      <td>-0.000909</td>\n",
       "      <td>0.153861</td>\n",
       "      <td>0.148635</td>\n",
       "      <td>-0.073672</td>\n",
       "      <td>-0.119839</td>\n",
       "      <td>1.000000</td>\n",
       "      <td>0.998942</td>\n",
       "    </tr>\n",
       "    <tr>\n",
       "      <td>ResponseTime_Vacation</td>\n",
       "      <td>-0.318330</td>\n",
       "      <td>-0.046268</td>\n",
       "      <td>0.173593</td>\n",
       "      <td>0.148826</td>\n",
       "      <td>-0.080045</td>\n",
       "      <td>-0.109779</td>\n",
       "      <td>0.998942</td>\n",
       "      <td>1.000000</td>\n",
       "    </tr>\n",
       "  </tbody>\n",
       "</table>\n",
       "</div>"
      ],
      "text/plain": [
       "                                Subject  Condition  MeanRating_SurvivalWords  \\\n",
       "Subject                        1.000000   0.322543                 -0.194302   \n",
       "Condition                      0.322543   1.000000                 -0.452556   \n",
       "MeanRating_SurvivalWords      -0.194302  -0.452556                  1.000000   \n",
       "MeanRating_VacationWords       0.003091   0.000000                 -0.018100   \n",
       "Mean_RememberedWords_Survival -0.220402   0.203395                  0.108287   \n",
       "Mean_RememberedWords_Vacation -0.270746  -0.175574                  0.081120   \n",
       "ResponseTime_Survival         -0.301325  -0.000909                  0.153861   \n",
       "ResponseTime_Vacation         -0.318330  -0.046268                  0.173593   \n",
       "\n",
       "                               MeanRating_VacationWords  \\\n",
       "Subject                                        0.003091   \n",
       "Condition                                      0.000000   \n",
       "MeanRating_SurvivalWords                      -0.018100   \n",
       "MeanRating_VacationWords                       1.000000   \n",
       "Mean_RememberedWords_Survival                 -0.056716   \n",
       "Mean_RememberedWords_Vacation                  0.008352   \n",
       "ResponseTime_Survival                          0.148635   \n",
       "ResponseTime_Vacation                          0.148826   \n",
       "\n",
       "                               Mean_RememberedWords_Survival  \\\n",
       "Subject                                            -0.220402   \n",
       "Condition                                           0.203395   \n",
       "MeanRating_SurvivalWords                            0.108287   \n",
       "MeanRating_VacationWords                           -0.056716   \n",
       "Mean_RememberedWords_Survival                       1.000000   \n",
       "Mean_RememberedWords_Vacation                       0.567309   \n",
       "ResponseTime_Survival                              -0.073672   \n",
       "ResponseTime_Vacation                              -0.080045   \n",
       "\n",
       "                               Mean_RememberedWords_Vacation  \\\n",
       "Subject                                            -0.270746   \n",
       "Condition                                          -0.175574   \n",
       "MeanRating_SurvivalWords                            0.081120   \n",
       "MeanRating_VacationWords                            0.008352   \n",
       "Mean_RememberedWords_Survival                       0.567309   \n",
       "Mean_RememberedWords_Vacation                       1.000000   \n",
       "ResponseTime_Survival                              -0.119839   \n",
       "ResponseTime_Vacation                              -0.109779   \n",
       "\n",
       "                               ResponseTime_Survival  ResponseTime_Vacation  \n",
       "Subject                                    -0.301325              -0.318330  \n",
       "Condition                                  -0.000909              -0.046268  \n",
       "MeanRating_SurvivalWords                    0.153861               0.173593  \n",
       "MeanRating_VacationWords                    0.148635               0.148826  \n",
       "Mean_RememberedWords_Survival              -0.073672              -0.080045  \n",
       "Mean_RememberedWords_Vacation              -0.119839              -0.109779  \n",
       "ResponseTime_Survival                       1.000000               0.998942  \n",
       "ResponseTime_Vacation                       0.998942               1.000000  "
      ]
     },
     "execution_count": 65,
     "metadata": {},
     "output_type": "execute_result"
    }
   ],
   "source": [
    "corrdf = df.corr()\n",
    "corrdf"
   ]
  },
  {
   "cell_type": "code",
   "execution_count": 4,
   "metadata": {},
   "outputs": [
    {
     "name": "stdout",
     "output_type": "stream",
     "text": [
      "<class 'pandas.core.frame.DataFrame'>\n",
      "RangeIndex: 38 entries, 0 to 37\n",
      "Data columns (total 8 columns):\n",
      "Subject                          38 non-null int64\n",
      "Condition                        38 non-null int64\n",
      "MeanRating_SurvivalWords         38 non-null float64\n",
      "MeanRating_VacationWords         38 non-null float64\n",
      "Mean_RememberedWords_Survival    38 non-null float64\n",
      "Mean_RememberedWords_Vacation    38 non-null float64\n",
      "ResponseTime_Survival            38 non-null int64\n",
      "ResponseTime_Vacation            38 non-null int64\n",
      "dtypes: float64(4), int64(4)\n",
      "memory usage: 2.5 KB\n"
     ]
    }
   ],
   "source": [
    "df.info()"
   ]
  },
  {
   "cell_type": "markdown",
   "metadata": {},
   "source": [
    "Confirmatory analysisIn line with the original study, survival processing produced a significant recall advantage:\n",
    "\n",
    "#### Mean Rating Words\n",
    "\n",
    "Again,  the  survival  scenario  produced  significantly  higher  ratings  than  the  vacation  scenario  (2.95  vs.  2.51  compared with 2.91 vs. 2.61 of the original study)\n",
    "\n",
    "- F(1, 37) = 44.34\n",
    "- MSE = .087 \n",
    "- p = .000 \n",
    "- p2= .54.\n",
    "\n",
    "\n",
    "#### Mean Remembered Words\n",
    "\n",
    "- **F(1, 37) = 8.08**\n",
    "- **MSE = .021**\n",
    "- **p = .007**\n",
    "- **p2= .18**\n",
    "\n",
    "#### Mean Ranking Words\n",
    "\n",
    "There were no significant differences in response time:\n",
    "- **F(1, 37) = 2.49**\n",
    "- **MSE = 6,580.606**\n",
    "- **p = .123**\n",
    "- **p2= .06**"
   ]
  },
  {
   "cell_type": "code",
   "execution_count": 66,
   "metadata": {},
   "outputs": [
    {
     "data": {
      "text/plain": [
       "38"
      ]
     },
     "execution_count": 66,
     "metadata": {},
     "output_type": "execute_result"
    }
   ],
   "source": [
    "len(df)"
   ]
  },
  {
   "cell_type": "code",
   "execution_count": 84,
   "metadata": {},
   "outputs": [
    {
     "name": "stdout",
     "output_type": "stream",
     "text": [
      "Media de palabras procesadas de NO SUPERVIVENCIA 2.5065789473684212\n",
      "Media de palabras procesadas de SUPERVIVENCIA 2.950657894736842\n"
     ]
    }
   ],
   "source": [
    "print(\"Media de palabras procesadas de NO SUPERVIVENCIA\", np.mean(df[\"MeanRating_VacationWords\"]))\n",
    "print(\"Media de palabras procesadas de SUPERVIVENCIA\", np.mean(df[\"MeanRating_SurvivalWords\"]))"
   ]
  },
  {
   "cell_type": "markdown",
   "metadata": {},
   "source": [
    "## MeanRating_VacationWords"
   ]
  },
  {
   "cell_type": "code",
   "execution_count": 25,
   "metadata": {
    "scrolled": true
   },
   "outputs": [
    {
     "data": {
      "text/plain": [
       "(array([ 1.,  0.,  0.,  0.,  5.,  6., 10., 11.,  4.,  1.]),\n",
       " array([1.75  , 1.9375, 2.125 , 2.3125, 2.5   , 2.6875, 2.875 , 3.0625,\n",
       "        3.25  , 3.4375, 3.625 ]),\n",
       " <a list of 10 Patch objects>)"
      ]
     },
     "execution_count": 25,
     "metadata": {},
     "output_type": "execute_result"
    },
    {
     "data": {
      "image/png": "[encoded data removed]",
      "text/plain": [
       "<Figure size 432x288 with 1 Axes>"
      ]
     },
     "metadata": {
      "needs_background": "light"
     },
     "output_type": "display_data"
    }
   ],
   "source": [
    "plt.grid()\n",
    "plt.hist(df[\"MeanRating_VacationWords\"],color = \"lightgreen\")\n",
    "plt.hist(df[\"MeanRating_SurvivalWords\"], alpha = 0.8)\n"
   ]
  },
  {
   "cell_type": "code",
   "execution_count": 87,
   "metadata": {},
   "outputs": [
    {
     "name": "stdout",
     "output_type": "stream",
     "text": [
      "Vacation Words Rating:  NormaltestResult(statistic=1.8067344095602507, pvalue=0.4052029587112983)\n",
      "Survival Words Rating:  NormaltestResult(statistic=18.436286194399614, pvalue=9.922276370161083e-05)\n",
      "LeveneResult(statistic=0.2525333426193548, pvalue=0.6167891367898168)\n"
     ]
    }
   ],
   "source": [
    "# primero testeo si cumple las condiciones me dan valores mayores de 0.05\n",
    "print(\"Vacation Words Rating: \",normaltest(df[\"MeanRating_VacationWords\"]))\n",
    "print(\"Survival Words Rating: \",normaltest(df[\"MeanRating_SurvivalWords\"]))\n",
    "print(levene(df[\"MeanRating_VacationWords\"],df[\"MeanRating_SurvivalWords\"]))"
   ]
  },
  {
   "cell_type": "code",
   "execution_count": 90,
   "metadata": {},
   "outputs": [
    {
     "name": "stdout",
     "output_type": "stream",
     "text": [
      "hay una diferencia estadistica significativa entre el Rating de las Vacation Words y las Survival Words, 1.386865914072246e-07 por lo que se descarta que no haya diferencia entre este rating\n"
     ]
    }
   ],
   "source": [
    "d,p = stats.ttest_rel(df[\"MeanRating_VacationWords\"],df[\"MeanRating_SurvivalWords\"])\n",
    "print(\"hay una diferencia estadistica significativa entre el Rating de las Vacation Words y las Survival Words,\", p, \"por lo que se descarta que no haya diferencia entre este rating\")\n"
   ]
  },
  {
   "cell_type": "markdown",
   "metadata": {},
   "source": [
    "## REMEBERED WORDS"
   ]
  },
  {
   "cell_type": "code",
   "execution_count": 93,
   "metadata": {},
   "outputs": [
    {
     "data": {
      "text/plain": [
       "(array([4., 1., 0., 1., 5., 4., 8., 4., 4., 7.]),\n",
       " array([0.     , 0.08125, 0.1625 , 0.24375, 0.325  , 0.40625, 0.4875 ,\n",
       "        0.56875, 0.65   , 0.73125, 0.8125 ]),\n",
       " <a list of 10 Patch objects>)"
      ]
     },
     "execution_count": 93,
     "metadata": {},
     "output_type": "execute_result"
    },
    {
     "data": {
      "image/png": "[encoded data removed]",
      "text/plain": [
       "<Figure size 432x288 with 1 Axes>"
      ]
     },
     "metadata": {
      "needs_background": "light"
     },
     "output_type": "display_data"
    }
   ],
   "source": [
    "plt.grid()\n",
    "plt.hist(df[\"Mean_RememberedWords_Vacation\"],color = \"lightgreen\")\n",
    "plt.hist(df[\"Mean_RememberedWords_Survival\"], alpha = 0.8)\n",
    "\n",
    "# primero testeo si cumple las condiciones me dan valores mayores de 0.05\n"
   ]
  },
  {
   "cell_type": "code",
   "execution_count": 94,
   "metadata": {},
   "outputs": [
    {
     "name": "stdout",
     "output_type": "stream",
     "text": [
      "Vacation Words Mean:  NormaltestResult(statistic=4.038235482186955, pvalue=0.13277255318910616)\n",
      "Survival Words Mean:  NormaltestResult(statistic=5.439566000387676, pvalue=0.06588905078644205)\n",
      "LeveneResult(statistic=1.88240630888408, pvalue=0.17420598746827928)\n"
     ]
    }
   ],
   "source": [
    "print(\"Vacation Words Mean: \",normaltest(df[\"Mean_RememberedWords_Survival\"]))\n",
    "print(\"Survival Words Mean: \",normaltest(df[\"Mean_RememberedWords_Vacation\"]))\n",
    "print(levene(df[\"Mean_RememberedWords_Survival\"],df[\"Mean_RememberedWords_Vacation\"]))\n"
   ]
  },
  {
   "cell_type": "code",
   "execution_count": 95,
   "metadata": {},
   "outputs": [
    {
     "name": "stdout",
     "output_type": "stream",
     "text": [
      "hay una diferencia estadistica significativa entre el Promedio de las Vacation Words y las Survival Words recordadas de: 0.007241045123816539 por lo que se descarta que no haya diferencia entre este promedio\n"
     ]
    }
   ],
   "source": [
    "# DIFERENCIA MUESTRA\n",
    "d1, p1= stats.ttest_rel(df[\"Mean_RememberedWords_Survival\"],df[\"Mean_RememberedWords_Vacation\"])\n",
    "#P Value es mucho mayor a 0.05\n",
    "print(\"hay una diferencia estadistica significativa entre el Promedio de las Vacation Words y las Survival Words recordadas de:\", p1, \"por lo que se descarta que no haya diferencia entre este promedio\")\n"
   ]
  },
  {
   "cell_type": "code",
   "execution_count": 50,
   "metadata": {},
   "outputs": [],
   "source": [
    "from sklearn.metrics import mean_squared_error"
   ]
  },
  {
   "cell_type": "code",
   "execution_count": 51,
   "metadata": {},
   "outputs": [
    {
     "data": {
      "text/plain": [
       "0.3706825657894737"
      ]
     },
     "execution_count": 51,
     "metadata": {},
     "output_type": "execute_result"
    }
   ],
   "source": [
    "mean_squared_error(df[\"MeanRating_SurvivalWords\"],df[\"MeanRating_VacationWords\"])"
   ]
  },
  {
   "cell_type": "code",
   "execution_count": 61,
   "metadata": {},
   "outputs": [
    {
     "data": {
      "text/plain": [
       "0.04903371710526316"
      ]
     },
     "execution_count": 61,
     "metadata": {},
     "output_type": "execute_result"
    }
   ],
   "source": [
    "mean_squared_error(df[\"Mean_RememberedWords_Survival\"],df[\"Mean_RememberedWords_Vacation\"])"
   ]
  },
  {
   "cell_type": "code",
   "execution_count": 52,
   "metadata": {},
   "outputs": [
    {
     "data": {
      "text/plain": [
       "13677.368421052632"
      ]
     },
     "execution_count": 52,
     "metadata": {},
     "output_type": "execute_result"
    }
   ],
   "source": [
    "mean_squared_error(df[\"ResponseTime_Survival\"],df[\"ResponseTime_Vacation\"])"
   ]
  },
  {
   "cell_type": "markdown",
   "metadata": {},
   "source": [
    "## RESPONSE TIME"
   ]
  },
  {
   "cell_type": "code",
   "execution_count": 40,
   "metadata": {},
   "outputs": [
    {
     "data": {
      "text/plain": [
       "(array([11.,  5.,  3.,  7.,  7.,  2.,  1.,  1.,  0.,  1.]),\n",
       " array([  245.,  1316.,  2387.,  3458.,  4529.,  5600.,  6671.,  7742.,\n",
       "         8813.,  9884., 10955.]),\n",
       " <a list of 10 Patch objects>)"
      ]
     },
     "execution_count": 40,
     "metadata": {},
     "output_type": "execute_result"
    },
    {
     "data": {
      "image/png": "[encoded data removed]",
      "text/plain": [
       "<Figure size 432x288 with 1 Axes>"
      ]
     },
     "metadata": {
      "needs_background": "light"
     },
     "output_type": "display_data"
    }
   ],
   "source": [
    "plt.grid()\n",
    "plt.hist(df[\"ResponseTime_Vacation\"],color = \"lightgreen\")\n",
    "plt.hist(df[\"ResponseTime_Survival\"], alpha = 0.8)\n"
   ]
  },
  {
   "cell_type": "code",
   "execution_count": 96,
   "metadata": {},
   "outputs": [
    {
     "name": "stdout",
     "output_type": "stream",
     "text": [
      "Vacation Words ResponseTime:  NormaltestResult(statistic=5.806756400029981, pvalue=0.05483765422930451)\n",
      "Survival Words ResponseTime:  NormaltestResult(statistic=6.53453425397951, pvalue=0.03811043587062556)\n",
      "LeveneResult(statistic=0.0003553348466429734, pvalue=0.9850112392340512)\n"
     ]
    }
   ],
   "source": [
    "print(\"Vacation Words ResponseTime: \",normaltest(df[\"ResponseTime_Survival\"]))\n",
    "print(\"Survival Words ResponseTime: \",normaltest(df[\"ResponseTime_Vacation\"]))\n",
    "print(levene(df[\"ResponseTime_Survival\"],df[\"ResponseTime_Vacation\"]))"
   ]
  },
  {
   "cell_type": "code",
   "execution_count": 97,
   "metadata": {},
   "outputs": [
    {
     "name": "stdout",
     "output_type": "stream",
     "text": [
      "hay una baja diferencia estadistica  entre el Promedio de tiempo de respuesta entre las Vacation Words y las Survival Words de: 0.12306355739961802 por lo que se acepta H0 o que no hay diferencia en el tiempo\n"
     ]
    }
   ],
   "source": [
    "# DIFERENCIA MUESTRA en tiempo\n",
    "d2,p2 = stats.ttest_rel(df[\"ResponseTime_Survival\"],df[\"ResponseTime_Vacation\"])\n",
    "print(\"hay una baja diferencia estadistica  entre el Promedio de tiempo de respuesta entre las Vacation Words y las Survival Words de:\", p2, \"por lo que se acepta H0 o que no hay diferencia en el tiempo\")\n"
   ]
  },
  {
   "cell_type": "code",
   "execution_count": null,
   "metadata": {},
   "outputs": [],
   "source": []
  },
  {
   "cell_type": "code",
   "execution_count": null,
   "metadata": {},
   "outputs": [],
   "source": []
  }
 ],
 "metadata": {
  "kernelspec": {
   "display_name": "Python 3",
   "language": "python",
   "name": "python3"
  },
  "language_info": {
   "codemirror_mode": {
    "name": "ipython",
    "version": 3
   },
   "file_extension": ".py",
   "mimetype": "text/x-python",
   "name": "python",
   "nbconvert_exporter": "python",
   "pygments_lexer": "ipython3",
   "version": "3.7.4"
  }
 },
 "nbformat": 4,
 "nbformat_minor": 2
}
